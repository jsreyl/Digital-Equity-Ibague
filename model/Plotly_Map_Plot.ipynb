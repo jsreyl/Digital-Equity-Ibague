{
 "cells": [
  {
   "cell_type": "code",
   "execution_count": 2,
   "id": "836e16bb",
   "metadata": {},
   "outputs": [],
   "source": [
    "import geojson\n",
    "import pandas as pd\n",
    "import geopandas\n",
    "import plotly.express as px\n",
    "import warnings"
   ]
  },
  {
   "cell_type": "code",
   "execution_count": 3,
   "id": "71cee9ad",
   "metadata": {},
   "outputs": [],
   "source": [
    "%matplotlib inline\n",
    "warnings.filterwarnings('ignore')"
   ]
  },
  {
   "cell_type": "code",
   "execution_count": 4,
   "id": "772d4d91",
   "metadata": {},
   "outputs": [],
   "source": [
    "ibague_loc = [4.436418, -75.203946]"
   ]
  },
  {
   "cell_type": "code",
   "execution_count": null,
   "id": "4e048fa1",
   "metadata": {},
   "outputs": [],
   "source": [
    "ibague_mzn = pd.read_csv(\"data/df_model.csv\")"
   ]
  },
  {
   "cell_type": "code",
   "execution_count": null,
   "id": "655f7819",
   "metadata": {},
   "outputs": [],
   "source": [
    "lats=ibague_mzn[\"LATITUD\"] \n",
    "lons=ibague_mzn[\"LATITUD\"]\n",
    "\n",
    "fig = px.choropleth_mapbox(ibague_mzn, geojson=ibague_mzn.geometry, \n",
    "                    locations=ibague_mzn.index, color=\"prob_logit\",\n",
    "                    height=600,\n",
    "                    color_continuous_scale=\"Greens\",\n",
    "                    labels={'prob_logit':'Far from 400mts to a Wifi Zone'},\n",
    "                    mapbox_style='carto-positron')\n",
    "\n",
    "fig.add_scattermapbox( lat=lats, lon=lons, \n",
    "                      mode = 'markers', \n",
    "                      marker_size=12,\n",
    "                      marker_color='#167AC6', hoverlabel={ })\n",
    "\n",
    "fig.update_layout(mapbox_zoom = 12, \n",
    "                  height=460,\n",
    "                  mapbox_center = {\"lat\": 4.435800, \"lon\": -75.199009})\n",
    "\n",
    "fig.update_layout(transition_duration=500)\n",
    "fig['layout'].update(margin=dict(l=0,r=0,b=0,t=0))\n",
    "\n",
    "fig.show()"
   ]
  }
 ],
 "metadata": {
  "kernelspec": {
   "display_name": "Python 3",
   "language": "python",
   "name": "python3"
  },
  "language_info": {
   "codemirror_mode": {
    "name": "ipython",
    "version": 3
   },
   "file_extension": ".py",
   "mimetype": "text/x-python",
   "name": "python",
   "nbconvert_exporter": "python",
   "pygments_lexer": "ipython3",
   "version": "3.8.8"
  }
 },
 "nbformat": 4,
 "nbformat_minor": 5
}
