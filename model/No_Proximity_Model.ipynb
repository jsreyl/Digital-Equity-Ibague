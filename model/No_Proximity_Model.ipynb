{
 "cells": [
  {
   "cell_type": "code",
   "execution_count": null,
   "id": "25adb433",
   "metadata": {},
   "outputs": [],
   "source": [
    "import geojson\n",
    "import pandas as pd\n",
    "import numpy as np\n",
    "import geopandas\n",
    "from geopy import distance\n",
    "import plotly.express as px\n",
    "import collections\n",
    "import seaborn as sns\n",
    "import matplotlib.pyplot as plt\n",
    "import statsmodels.formula.api as sm\n",
    "from geopy.distance import geodesic\n",
    "import statsmodels.api as smlog\n",
    "from sklearn.model_selection import train_test_split\n",
    "import warnings"
   ]
  },
  {
   "cell_type": "code",
   "execution_count": null,
   "id": "924d20b8",
   "metadata": {},
   "outputs": [],
   "source": [
    "%matplotlib inline\n",
    "warnings.filterwarnings('ignore')"
   ]
  },
  {
   "cell_type": "code",
   "execution_count": null,
   "id": "2b9b1680",
   "metadata": {},
   "outputs": [],
   "source": [
    "ibague_loc = [4.436418, -75.203946]"
   ]
  },
  {
   "cell_type": "code",
   "execution_count": null,
   "id": "ab1d9ae2",
   "metadata": {},
   "outputs": [],
   "source": [
    "def count_nan(df):\n",
    "    nan_total = df.isna().sum().sum()\n",
    "    print('En total hay', nan_total)\n",
    "    print('')\n",
    "    for col in df:\n",
    "        if df[col].isna().sum().sum() != 0:\n",
    "            nan_col = df[col].isna().sum().sum()\n",
    "            print(col, ' tiene en total: ', nan_col, 'nan')"
   ]
  },
  {
   "cell_type": "code",
   "execution_count": null,
   "id": "913ebbf2",
   "metadata": {},
   "outputs": [],
   "source": [
    "def as_percentage(df, variables):\n",
    "    sub_df = df.copy()\n",
    "    sub_df['sum'] = sub_df[variables].apply(sum, axis = 'columns')\n",
    "    for col in sub_df:\n",
    "        if col in variables:\n",
    "            name = col + '_pct'\n",
    "            sub_df[name] = sub_df[col] / sub_df['sum']\n",
    "    sub_df.replace(np.nan, 0, inplace=True)\n",
    "    return sub_df"
   ]
  },
  {
   "cell_type": "code",
   "execution_count": null,
   "id": "896c3d90",
   "metadata": {},
   "outputs": [],
   "source": [
    "def find_block(request):\n",
    "    distance_min = 10000\n",
    "    for i in range (0, len(ibague_mzn.index)):\n",
    "        loc_block = (ibague_mzn['LATITUD'].iloc[i],ibague_mzn['LONGITUD'].iloc[i])\n",
    "        distance = geodesic(loc_block, request).km\n",
    "        if distance < distance_min:\n",
    "            distance_min = distance\n",
    "            closest_block = i\n",
    "    loc = ibague_mzn['LATITUD'][closest_block],ibague_mzn['LONGITUD'][closest_block] \n",
    "    return closest_block"
   ]
  },
  {
   "cell_type": "markdown",
   "id": "84fb79d0",
   "metadata": {},
   "source": [
    "# Data engineer"
   ]
  },
  {
   "cell_type": "code",
   "execution_count": null,
   "id": "5e8d1f3c",
   "metadata": {},
   "outputs": [],
   "source": [
    "location_zonas=pd.read_csv(\"data/ubicacion_zonasvibra.csv\", sep=\",\")\n",
    "connections_zonas=pd.read_csv(\"data/Conexiones_Zonas.csv\")\n",
    "ibague_mzn = geopandas.read_file(\"data/ibague_manzanas.geojson\", driver=\"GeoJson\")"
   ]
  },
  {
   "cell_type": "code",
   "execution_count": null,
   "id": "8d0702d2",
   "metadata": {},
   "outputs": [],
   "source": [
    "connections_zonas = connections_zonas.rename(columns={'ene-21': 'enero', 'feb-21': 'febrero', 'mar-21': 'marzo', 'abr-21': 'abril'})\n",
    "connections_zonas['2021'] = connections_zonas[['enero', 'febrero', 'marzo', 'abril']].apply(sum, axis = 'columns')\n",
    "connections_zonas = connections_zonas[['ID', 'enero', 'febrero', 'marzo', 'abril', '2021']]"
   ]
  },
  {
   "cell_type": "code",
   "execution_count": null,
   "id": "56240698",
   "metadata": {},
   "outputs": [],
   "source": [
    "ibague_mzn = ibague_mzn.drop(columns=['dist_zona1','dist_zona2','dist_zona3','dist_zona4','dist_zona5','dist_zona6','dist_zona7','dist_zona8','dist_zona9','dist_zona10','dist_zona11','dist_zona12','dist_zona13','dist_zona14','dist_zona15','dist_zona16','dist_zona17','dist_zona18','dist_zona19','dist_zona20','dist_zona21','dist_zona22','dist_zona23','dist_zona24','dist_zona25','dist_zona26','dist_zona27','dist_zona28','dist_zona29','dist_zona30','dist_zona31','dist_zona32','dist_zona33','dist_zona34','dist_zona35','dist_zona36','dist_zona37','dist_zona38','dist_zona39','dist_zona40','dist_zona41','dist_zona42','dist_zona43','dist_zona44','dist_zona45','dist_zona46','dist_zona47','dist_zona48','dist_zona49','dist_zona50','dist_zona51','dist_zona52','dist_zona53','dist_zona54','dist_zona55','dist_zona56','dist_zona57','dist_zona58','dist_zona59','dist_zona60','dist_zona61','dist_zona62','dist_zona63','dist_zona64','dist_zona65','dist_zona66','dist_zona67','dist_zona68','dist_zona69','dist_zona70','dist_zona71','dist_zona72','dist_zona73','dist_zona74','dist_zona75','dist_zona76','dist_zona77','dist_zona78','dist_zona79','dist_zona80','dist_zona81','dist_zona82','dist_zona83','dist_zona84','dist_zona85','dist_zona86','dist_zona87','dist_zona88','dist_zona89','dist_zona90','dist_zona91','dist_zona92','dist_zona93','dist_zona94','dist_zona95','dist_zona96','dist_zona97','dist_zona98','dist_zona99','dist_zona100','dist_zona101','dist_zona102','dist_zona103','dist_zona104','dist_zona105','dist_zona106','dist_zona107','dist_zona108','dist_zona109','dist_zona110','dist_zona111','dist_zona112','dist_zona113','dist_zona114','dist_zona115','dist_zona116','dist_zona117','dist_zona118','dist_zona119','dist_zona120','dist_zona121','dist_zona122','dist_zona123','dist_zona124','dist_zona125','dist_zona126','dist_zona127','dist_zona128','dist_zona129','dist_zona130','dist_zona131','dist_zona132','dist_zona133','dist_zona134','dist_zona135','dist_zona136','dist_zona137','dist_zona138','dist_zona139','dist_zona140','dist_zona141','dist_zona142','dist_zona143','dist_zona144','dist_zona145','dist_zona146','dist_zona147','dist_zona148','dist_zona149','dist_zona150'])"
   ]
  },
  {
   "cell_type": "code",
   "execution_count": null,
   "id": "a326643b",
   "metadata": {},
   "outputs": [],
   "source": [
    "ibague_mzn['dist_min'] = 0\n",
    "ibague_mzn['zona_min'] = 0\n",
    "\n",
    "for manzana in ibague_mzn.index:\n",
    "    \n",
    "    manzana_min = 0\n",
    "    minima = 1000000\n",
    "    loc_manzana = (ibague_mzn['LATITUD'].iloc[manzana], ibague_mzn['LONGITUD'].iloc[manzana])\n",
    "    \n",
    "    for i in range (0, len(location_zonas.index)):\n",
    "        loc_zona = (location_zonas['Latitud'][i],location_zonas['Longitud'][i])\n",
    "        distance = geodesic(loc_zona, loc_manzana).km\n",
    "        if distance < minima:\n",
    "            minima = distance\n",
    "            manzana_min = i+1\n",
    "            \n",
    "    ibague_mzn['dist_min'].iloc[manzana] = minima\n",
    "    ibague_mzn['zona_min'].iloc[manzana] = manzana_min"
   ]
  },
  {
   "cell_type": "code",
   "execution_count": null,
   "id": "243c2881",
   "metadata": {},
   "outputs": [],
   "source": [
    "connections_zonas = connections_zonas[['ID', 'enero', 'febrero', 'marzo', 'abril', '2021']].rename(columns={'ID': 'zona_min'})\n",
    "ibague_mzn = pd.merge(ibague_mzn, connections_zonas, on=\"zona_min\")"
   ]
  },
  {
   "cell_type": "code",
   "execution_count": null,
   "id": "50fbfb6a",
   "metadata": {},
   "outputs": [],
   "source": [
    "list(ibague_mzn.columns)"
   ]
  },
  {
   "cell_type": "code",
   "execution_count": null,
   "id": "ba2cdef5",
   "metadata": {},
   "outputs": [],
   "source": [
    "disscard = [\n",
    " 'DPTO_CCDGO',\n",
    " 'MPIO_CCDGO',\n",
    " 'MPIO_CDPMP',\n",
    " 'SETR_CCDGO',\n",
    " 'SETR_CCNCT',\n",
    " 'SECR_CCDGO',\n",
    " 'SECR_CCNCT',\n",
    " 'ZU_CCDGO',\n",
    " 'ZU_CDIVI',\n",
    " 'SETU_CCDGO',\n",
    " 'SETU_CCNCT',\n",
    " 'SECU_CCDGO',\n",
    " 'SECU_CCNCT',\n",
    " 'AG_CCDGO',\n",
    " 'DATO_ANM',\n",
    " 'VERSION',\n",
    " 'CTNENCUEST',\n",
    " 'TP3_1_SI',\n",
    " 'TP3_2_NO',\n",
    " 'TP3A_RI',\n",
    " 'TP3B_TCN',\n",
    " 'TP4_1_SI',\n",
    " 'TP4_2_NO',\n",
    "'CD_LC_CM',\n",
    "'NMB_LC_CM',\n",
    "'TP_LC_CM']\n",
    "\n",
    "ibague_mzn = ibague_mzn.drop(columns=disscard)"
   ]
  },
  {
   "cell_type": "code",
   "execution_count": null,
   "id": "f4635de1",
   "metadata": {},
   "outputs": [],
   "source": [
    "ibague_mzn['pp2021'] = ibague_mzn['2021'] / ibague_mzn['TP27_PERSO']\n",
    "ibague_mzn['eneropp'] = ibague_mzn['enero'] / ibague_mzn['TP27_PERSO']\n",
    "ibague_mzn['febreropp'] = ibague_mzn['febrero'] / ibague_mzn['TP27_PERSO']\n",
    "ibague_mzn['marzopp'] = ibague_mzn['marzo'] / ibague_mzn['TP27_PERSO']\n",
    "ibague_mzn['abrilpp'] = ibague_mzn['abril'] / ibague_mzn['TP27_PERSO']\n",
    "ibague_mzn.replace(np.inf, 0, inplace=True)"
   ]
  },
  {
   "cell_type": "code",
   "execution_count": null,
   "id": "840d59f2",
   "metadata": {},
   "outputs": [],
   "source": [
    "count_nan(ibague_mzn)"
   ]
  },
  {
   "cell_type": "code",
   "execution_count": null,
   "id": "6497aaa7",
   "metadata": {},
   "outputs": [],
   "source": [
    "ibague_mzn[ibague_mzn['pp2021'].isna()].zona_min.value_counts()"
   ]
  },
  {
   "cell_type": "code",
   "execution_count": null,
   "id": "2f7e8bbf",
   "metadata": {},
   "outputs": [],
   "source": [
    "ibague_mzn = ibague_mzn[ibague_mzn['zona_min'] != 133]"
   ]
  },
  {
   "cell_type": "code",
   "execution_count": null,
   "id": "d63e0a0e",
   "metadata": {},
   "outputs": [],
   "source": [
    "count_nan(ibague_mzn)"
   ]
  },
  {
   "cell_type": "code",
   "execution_count": null,
   "id": "34df9564",
   "metadata": {},
   "outputs": [],
   "source": [
    "education = ['TP51PRIMAR', 'TP51SECUND', 'TP51SUPERI', 'TP51POSTGR', 'TP51_13_ED']\n",
    "estrato = ['TP19_EE_E1', 'TP19_EE_E2', 'TP19_EE_E3', 'TP19_EE_E4', 'TP19_EE_E5', 'TP19_EE_E6']\n",
    "sexo = ['TP32_1_SEX', 'TP32_2_SEX']\n",
    "edad = ['TP34_1_EDA', 'TP34_2_EDA', 'TP34_3_EDA', 'TP34_4_EDA', 'TP34_5_EDA', 'TP34_6_EDA', 'TP34_7_EDA', 'TP34_8_EDA', 'TP34_9_EDA']\n",
    "energia = ['TP19_EE_1', 'TP19_EE_2']\n",
    "acueducto = ['TP19_ACU_1', 'TP19_ACU_2']\n",
    "alcantarillado = ['TP19_ALC_1', 'TP19_ALC_2']\n",
    "gas = ['TP19_GAS_1', 'TP19_GAS_2']\n",
    "basuras = ['TP19_RECB1', 'TP19_RECB2']\n",
    "internet = ['TP19_INTE1', 'TP19_INTE2']"
   ]
  },
  {
   "cell_type": "code",
   "execution_count": null,
   "id": "874a7753",
   "metadata": {},
   "outputs": [],
   "source": [
    "ibague_mzn = as_percentage(ibague_mzn, education)\n",
    "ibague_mzn = as_percentage(ibague_mzn, estrato)\n",
    "ibague_mzn = as_percentage(ibague_mzn, sexo)\n",
    "ibague_mzn = as_percentage(ibague_mzn, edad)\n",
    "ibague_mzn = as_percentage(ibague_mzn, energia)\n",
    "ibague_mzn = as_percentage(ibague_mzn, acueducto)\n",
    "ibague_mzn = as_percentage(ibague_mzn, alcantarillado)\n",
    "ibague_mzn = as_percentage(ibague_mzn, gas)\n",
    "ibague_mzn = as_percentage(ibague_mzn, basuras)\n",
    "ibague_mzn = as_percentage(ibague_mzn, internet)"
   ]
  },
  {
   "cell_type": "markdown",
   "id": "8a4d45cb",
   "metadata": {},
   "source": [
    "# Modelling"
   ]
  },
  {
   "cell_type": "code",
   "execution_count": null,
   "id": "b0d1f3c3",
   "metadata": {},
   "outputs": [],
   "source": [
    "distance_threshold = 0.4\n",
    "ibague_mzn['far_dist'] = [1 if x > distance_threshold else 0 for x in ibague_mzn['dist_min']]\n",
    "ibague_mzn['far_dist'].value_counts(normalize = True)"
   ]
  },
  {
   "cell_type": "code",
   "execution_count": null,
   "id": "5bb8dafa",
   "metadata": {},
   "outputs": [],
   "source": [
    "ibague_mzn = ibague_mzn[['far_dist', 'DENSIDAD','febrero','marzo','abril','TP19_EE_E2_pct','TP19_EE_E3_pct','TP19_EE_E4_pct',\n",
    "                         'TP19_EE_E5_pct','TP19_EE_E6_pct','TP34_2_EDA_pct','TP34_3_EDA_pct','TP34_4_EDA_pct','TP34_5_EDA_pct',\n",
    "                         'TP34_6_EDA_pct','TP34_7_EDA_pct','TP34_8_EDA_pct','TP34_9_EDA_pct','TP19_ALC_1_pct','TP19_EE_1_pct',\n",
    "                         'TP19_GAS_1_pct','TP19_INTE2_pct', 'geometry', 'LATITUD', 'LONGITUD']]"
   ]
  },
  {
   "cell_type": "code",
   "execution_count": null,
   "id": "6db6e3c1",
   "metadata": {},
   "outputs": [],
   "source": [
    "ibague_mzn['Intercept'] = 1\n",
    "y, X = ibague_mzn['far_dist'], ibague_mzn[['DENSIDAD','febrero','marzo','abril','TP19_EE_E2_pct','TP19_EE_E3_pct','TP19_EE_E4_pct','TP19_EE_E5_pct','TP19_EE_E6_pct','TP34_2_EDA_pct','TP34_3_EDA_pct','TP34_4_EDA_pct','TP34_5_EDA_pct','TP34_6_EDA_pct','TP34_7_EDA_pct','TP34_8_EDA_pct','TP34_9_EDA_pct','TP19_ALC_1_pct','TP19_EE_1_pct','TP19_GAS_1_pct','TP19_INTE2_pct']]"
   ]
  },
  {
   "cell_type": "code",
   "execution_count": null,
   "id": "bbcab529",
   "metadata": {},
   "outputs": [],
   "source": [
    "X_train, X_test, y_train, y_test = train_test_split(X, y, test_size=0.2, random_state=42)"
   ]
  },
  {
   "cell_type": "code",
   "execution_count": null,
   "id": "327683cf",
   "metadata": {},
   "outputs": [],
   "source": [
    "logit = smlog.Logit(y_train, X_train).fit()\n",
    "logit.summary()"
   ]
  },
  {
   "cell_type": "code",
   "execution_count": null,
   "id": "691b8a0a",
   "metadata": {},
   "outputs": [],
   "source": [
    "score_logit = logit.predict(X)"
   ]
  },
  {
   "cell_type": "code",
   "execution_count": null,
   "id": "1f5a6919",
   "metadata": {},
   "outputs": [],
   "source": [
    "ibague_mzn['prob_logit'] = logit.predict(X)"
   ]
  },
  {
   "cell_type": "code",
   "execution_count": null,
   "id": "9708e184",
   "metadata": {},
   "outputs": [],
   "source": [
    "request = (4.442944852223881, -75.16375287055769)"
   ]
  },
  {
   "cell_type": "code",
   "execution_count": null,
   "id": "94678c51",
   "metadata": {},
   "outputs": [],
   "source": [
    "closest_block = find_block(request)\n",
    "ibague_mzn.iloc[closest_block]['prob_logit']"
   ]
  },
  {
   "cell_type": "code",
   "execution_count": null,
   "id": "1b5dc5c6",
   "metadata": {},
   "outputs": [],
   "source": [
    "lats=ibague_mzn[\"LATITUD\"] \n",
    "lons=ibague_mzn[\"LATITUD\"]\n",
    "\n",
    "fig = px.choropleth_mapbox(ibague_mzn, geojson=ibague_mzn.geometry, \n",
    "                    locations=ibague_mzn.index, color=\"prob_logit\",\n",
    "                    height=600,\n",
    "                    color_continuous_scale=\"Greens\",\n",
    "                    labels={'prob_logit':'Far from 400mts to a Wifi Zone'},\n",
    "                    mapbox_style='carto-positron')\n",
    "\n",
    "fig.add_scattermapbox( lat=lats, lon=lons, \n",
    "                      mode = 'markers', \n",
    "                      marker_size=12,\n",
    "                      marker_color='#167AC6', hoverlabel={ })\n",
    "\n",
    "fig.update_layout(mapbox_zoom = 12, \n",
    "                  height=460,\n",
    "                  mapbox_center = {\"lat\": 4.435800, \"lon\": -75.199009})\n",
    "\n",
    "fig.update_layout(transition_duration=500)\n",
    "fig['layout'].update(margin=dict(l=0,r=0,b=0,t=0))\n",
    "\n",
    "fig.show()"
   ]
  }
 ],
 "metadata": {
  "kernelspec": {
   "display_name": "Python 3",
   "language": "python",
   "name": "python3"
  },
  "language_info": {
   "codemirror_mode": {
    "name": "ipython",
    "version": 3
   },
   "file_extension": ".py",
   "mimetype": "text/x-python",
   "name": "python",
   "nbconvert_exporter": "python",
   "pygments_lexer": "ipython3",
   "version": "3.8.8"
  }
 },
 "nbformat": 4,
 "nbformat_minor": 5
}
